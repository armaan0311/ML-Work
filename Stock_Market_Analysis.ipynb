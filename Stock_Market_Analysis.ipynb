{
  "metadata": {
    "kernelspec": {
      "language": "python",
      "display_name": "Python 3",
      "name": "python3"
    },
    "language_info": {
      "pygments_lexer": "ipython3",
      "nbconvert_exporter": "python",
      "version": "3.6.4",
      "file_extension": ".py",
      "codemirror_mode": {
        "name": "ipython",
        "version": 3
      },
      "name": "python",
      "mimetype": "text/x-python"
    },
    "colab": {
      "name": "📊Stock Market Analysis 📈 + Prediction using LSTM",
      "provenance": []
    }
  },
  "nbformat_minor": 0,
  "nbformat": 4,
  "cells": [
    {
      "source": [
        "import os\n",
        "import sys\n",
        "from tempfile import NamedTemporaryFile\n",
        "from urllib.request import urlopen\n",
        "from urllib.parse import unquote, urlparse\n",
        "from urllib.error import HTTPError\n",
        "from zipfile import ZipFile\n",
        "import tarfile\n",
        "import shutil\n",
        "\n",
        "CHUNK_SIZE = 40960\n",
        "DATA_SOURCE_MAPPING = 'tesla-stock-price:https%3A%2F%2Fstorage.googleapis.com%2Fkaggle-data-sets%2F1007%2F1814%2Fbundle%2Farchive.zip%3FX-Goog-Algorithm%3DGOOG4-RSA-SHA256%26X-Goog-Credential%3Dgcp-kaggle-com%2540kaggle-161607.iam.gserviceaccount.com%252F20240614%252Fauto%252Fstorage%252Fgoog4_request%26X-Goog-Date%3D20240614T075911Z%26X-Goog-Expires%3D259200%26X-Goog-SignedHeaders%3Dhost%26X-Goog-Signature%3D892eeaef66e651e0139d5448fa085391a3b237c0108bd65a2f336ce235084774563ae7e93df90ac128d5d0375a71c26eb0dac14b409681881c1baf0c6f5a6af10baae98f0bc42df11b9464fabbed2f1df51ddcd592931d7ea7a612342ebc7a1a839516362b8ef154acec0cf70bedf2badd4b3f56de32e650c556cbaeabffe60aa4c35307cefb52369c687734c0ea44bd2bc2db1f88632401b84c0e6a44454616c837571230101c788e5db5d9cd3ff55b7b2501c469ad314ee046d4ee5b2e04ebd1d72212a73d013642e0d17b01d881690ac5a7713f4c4cfc1b398207f3bec2c97419aa43a1c46063a6113e40bff2163f050f9b3b2984d8b9fa3f66f8c0715c27,sandp500:https%3A%2F%2Fstorage.googleapis.com%2Fkaggle-data-sets%2F1908%2F17155%2Fbundle%2Farchive.zip%3FX-Goog-Algorithm%3DGOOG4-RSA-SHA256%26X-Goog-Credential%3Dgcp-kaggle-com%2540kaggle-161607.iam.gserviceaccount.com%252F20240614%252Fauto%252Fstorage%252Fgoog4_request%26X-Goog-Date%3D20240614T075911Z%26X-Goog-Expires%3D259200%26X-Goog-SignedHeaders%3Dhost%26X-Goog-Signature%3D8febc4ae3d32030c49588d4022dbe3fb88a99abceac2eca7009b3b2ac4596670280d11d9b7d2539489fd90e328bc7318140035cd6ceef0cbd9b8e6007e97fab741d2a6f322648221673dab386789887695d7a34da81ac3755176d830d951881c772fd7f2bfacf994c28bac4bb5d28ca5f33613e3873574c4fc282cfd48c6eccbe774e055501e573465f6152e8221eabd56dd7fdebebf5fae9f8104917fdf317fa5757eb4df654dfa28e57228fafee74083db52a4721ebf775e627ed922fd534dc767d7669693450059989472d38d7a19524bbd0a12631f05fcf9c2ef8049340186a290b25351ef29f25c410a43849d58ce8b84d90d00e6e60726043f7e416781,amzn-dpz-btc-ntfx-adjusted-may-2013may2019:https%3A%2F%2Fstorage.googleapis.com%2Fkaggle-data-sets%2F195545%2F433077%2Fbundle%2Farchive.zip%3FX-Goog-Algorithm%3DGOOG4-RSA-SHA256%26X-Goog-Credential%3Dgcp-kaggle-com%2540kaggle-161607.iam.gserviceaccount.com%252F20240614%252Fauto%252Fstorage%252Fgoog4_request%26X-Goog-Date%3D20240614T075911Z%26X-Goog-Expires%3D259200%26X-Goog-SignedHeaders%3Dhost%26X-Goog-Signature%3D86647c9571ba785e261d9753ba6b164980066e865008ac01caedf258f95a552f0fe4257846d5f28160267a97dc3d96c3dca38599afecaad9087b99cbcc41ebb98fae0ac9551563eb6714956d8d35356c2ade85f53cc4e49ae88757b4f64718ebe18cd7a5368c054be43c65bd0ae0a99d3e5a65268e2aa7a068a7a28592d97fb399b1eb3b9f34f9b2a305a9010bed93c61239d5df04487f4a9e6e997f474879d70afebd55663fd2429c087ba3614b6fc2b27b5e76485854d95a8df25d14f84a23ddaa08782c6b9cdee63471ad2a78c842e6a423b214c85e33120cd49a50025ef5b4279eb86ba204b2c16a1eafe5c35df744b7a3a78f0770f48bcc2609b2048c99,apple-aapl-historical-stock-data:https%3A%2F%2Fstorage.googleapis.com%2Fkaggle-data-sets%2F533900%2F976925%2Fbundle%2Farchive.zip%3FX-Goog-Algorithm%3DGOOG4-RSA-SHA256%26X-Goog-Credential%3Dgcp-kaggle-com%2540kaggle-161607.iam.gserviceaccount.com%252F20240614%252Fauto%252Fstorage%252Fgoog4_request%26X-Goog-Date%3D20240614T075911Z%26X-Goog-Expires%3D259200%26X-Goog-SignedHeaders%3Dhost%26X-Goog-Signature%3D010ab745ca958b480a91ee3c1a40c4f16436cf85589879f830616c7807204c5a806db40510babcfa24be211199a84e18fe48aa1796f579bb2466784427a487c8975ae122118a2f790fa6d0f1dc86c13d01d019cad93a4ef883fa17c36ba5a27adde397eb63640d0196beb87009b4318f09d5f21eabb3dd494cc5f97a5439f58e580dcd9859b4ee5c721697c4ced716d0acb866f1de1cd46ffb450afd89fe2778af6158b8686f2c22f4e73114cdcc0ad41e7797f2ea4542c6922a06813c1c584ed955019fc58b4f90011b8703053999ff1a5ebd85bcc6e4cf578a49872f0ac35d2ebf2520decfb685ba0474748eed422096855a1c60118407548cbef6a900e3a0'\n",
        "\n",
        "KAGGLE_INPUT_PATH='/kaggle/input'\n",
        "KAGGLE_WORKING_PATH='/kaggle/working'\n",
        "KAGGLE_SYMLINK='kaggle'\n",
        "\n",
        "!umount /kaggle/input/ 2> /dev/null\n",
        "shutil.rmtree('/kaggle/input', ignore_errors=True)\n",
        "os.makedirs(KAGGLE_INPUT_PATH, 0o777, exist_ok=True)\n",
        "os.makedirs(KAGGLE_WORKING_PATH, 0o777, exist_ok=True)\n",
        "\n",
        "try:\n",
        "  os.symlink(KAGGLE_INPUT_PATH, os.path.join(\"..\", 'input'), target_is_directory=True)\n",
        "except FileExistsError:\n",
        "  pass\n",
        "try:\n",
        "  os.symlink(KAGGLE_WORKING_PATH, os.path.join(\"..\", 'working'), target_is_directory=True)\n",
        "except FileExistsError:\n",
        "  pass\n",
        "\n",
        "for data_source_mapping in DATA_SOURCE_MAPPING.split(','):\n",
        "    directory, download_url_encoded = data_source_mapping.split(':')\n",
        "    download_url = unquote(download_url_encoded)\n",
        "    filename = urlparse(download_url).path\n",
        "    destination_path = os.path.join(KAGGLE_INPUT_PATH, directory)\n",
        "    try:\n",
        "        with urlopen(download_url) as fileres, NamedTemporaryFile() as tfile:\n",
        "            total_length = fileres.headers['content-length']\n",
        "            print(f'Downloading {directory}, {total_length} bytes compressed')\n",
        "            dl = 0\n",
        "            data = fileres.read(CHUNK_SIZE)\n",
        "            while len(data) > 0:\n",
        "                dl += len(data)\n",
        "                tfile.write(data)\n",
        "                done = int(50 * dl / int(total_length))\n",
        "                sys.stdout.write(f\"\\r[{'=' * done}{' ' * (50-done)}] {dl} bytes downloaded\")\n",
        "                sys.stdout.flush()\n",
        "                data = fileres.read(CHUNK_SIZE)\n",
        "            if filename.endswith('.zip'):\n",
        "              with ZipFile(tfile) as zfile:\n",
        "                zfile.extractall(destination_path)\n",
        "            else:\n",
        "              with tarfile.open(tfile.name) as tarfile:\n",
        "                tarfile.extractall(destination_path)\n",
        "            print(f'\\nDownloaded and uncompressed: {directory}')\n",
        "    except HTTPError as e:\n",
        "        print(f'Failed to load (likely expired) {download_url} to path {destination_path}')\n",
        "        continue\n",
        "    except OSError as e:\n",
        "        print(f'Failed to load {download_url} to path {destination_path}')\n",
        "        continue\n",
        "\n",
        "print('Data source import complete.')\n"
      ],
      "metadata": {
        "id": "lgn-zi6uwgm8"
      },
      "cell_type": "code",
      "outputs": [],
      "execution_count": null
    },
    {
      "cell_type": "code",
      "source": [
        "!pip install -q yfinance"
      ],
      "metadata": {
        "_kg_hide-input": true,
        "_kg_hide-output": true,
        "execution": {
          "iopub.status.busy": "2023-01-30T22:53:03.549762Z",
          "iopub.execute_input": "2023-01-30T22:53:03.550933Z",
          "iopub.status.idle": "2023-01-30T22:53:15.422877Z",
          "shell.execute_reply.started": "2023-01-30T22:53:03.55086Z",
          "shell.execute_reply": "2023-01-30T22:53:15.421628Z"
        },
        "trusted": true,
        "id": "SEMFc8PfwgnE"
      },
      "execution_count": null,
      "outputs": []
    },
    {
      "cell_type": "code",
      "source": [
        "import pandas as pd\n",
        "import numpy as np\n",
        "\n",
        "import matplotlib.pyplot as plt\n",
        "import seaborn as sns\n",
        "sns.set_style('whitegrid')\n",
        "plt.style.use(\"fivethirtyeight\")\n",
        "%matplotlib inline\n",
        "\n",
        "# For reading stock data from yahoo\n",
        "from pandas_datareader.data import DataReader\n",
        "import yfinance as yf\n",
        "from pandas_datareader import data as pdr\n",
        "\n",
        "yf.pdr_override()\n",
        "\n",
        "# For time stamps\n",
        "from datetime import datetime\n",
        "\n",
        "\n",
        "# The tech stocks we'll use for this analysis\n",
        "tech_list = ['AAPL', 'GOOG', 'MSFT', 'AMZN']\n",
        "\n",
        "# Set up End and Start times for data grab\n",
        "tech_list = ['AAPL', 'GOOG', 'MSFT', 'AMZN']\n",
        "\n",
        "end = datetime.now()\n",
        "start = datetime(end.year - 1, end.month, end.day)\n",
        "\n",
        "for stock in tech_list:\n",
        "    globals()[stock] = yf.download(stock, start, end)\n",
        "\n",
        "\n",
        "company_list = [AAPL, GOOG, MSFT, AMZN]\n",
        "company_name = [\"APPLE\", \"GOOGLE\", \"MICROSOFT\", \"AMAZON\"]\n",
        "\n",
        "for company, com_name in zip(company_list, company_name):\n",
        "    company[\"company_name\"] = com_name\n",
        "\n",
        "df = pd.concat(company_list, axis=0)\n",
        "df.tail(10)"
      ],
      "metadata": {
        "execution": {
          "iopub.status.busy": "2023-01-30T22:53:15.425689Z",
          "iopub.execute_input": "2023-01-30T22:53:15.426113Z",
          "iopub.status.idle": "2023-01-30T22:53:16.973427Z",
          "shell.execute_reply.started": "2023-01-30T22:53:15.426073Z",
          "shell.execute_reply": "2023-01-30T22:53:16.972202Z"
        },
        "trusted": true,
        "id": "wQEmqzUPwgnF"
      },
      "execution_count": null,
      "outputs": []
    },
    {
      "cell_type": "code",
      "source": [
        "# Summary Stats\n",
        "AAPL.describe()"
      ],
      "metadata": {
        "execution": {
          "iopub.status.busy": "2023-01-30T22:53:16.975716Z",
          "iopub.execute_input": "2023-01-30T22:53:16.976539Z",
          "iopub.status.idle": "2023-01-30T22:53:17.010551Z",
          "shell.execute_reply.started": "2023-01-30T22:53:16.9765Z",
          "shell.execute_reply": "2023-01-30T22:53:17.00843Z"
        },
        "trusted": true,
        "id": "8_RPoqv3wgnH"
      },
      "execution_count": null,
      "outputs": []
    },
    {
      "cell_type": "code",
      "source": [
        "# General info\n",
        "AAPL.info()"
      ],
      "metadata": {
        "execution": {
          "iopub.status.busy": "2023-01-30T22:53:17.013734Z",
          "iopub.execute_input": "2023-01-30T22:53:17.014269Z",
          "iopub.status.idle": "2023-01-30T22:53:17.029859Z",
          "shell.execute_reply.started": "2023-01-30T22:53:17.014233Z",
          "shell.execute_reply": "2023-01-30T22:53:17.028404Z"
        },
        "trusted": true,
        "id": "lowa9RJhwgnI"
      },
      "execution_count": null,
      "outputs": []
    },
    {
      "cell_type": "code",
      "source": [
        "# Let's see a historical view of the closing price\n",
        "plt.figure(figsize=(15, 10))\n",
        "plt.subplots_adjust(top=1.25, bottom=1.2)\n",
        "\n",
        "for i, company in enumerate(company_list, 1):\n",
        "    plt.subplot(2, 2, i)\n",
        "    company['Adj Close'].plot()\n",
        "    plt.ylabel('Adj Close')\n",
        "    plt.xlabel(None)\n",
        "    plt.title(f\"Closing Price of {tech_list[i - 1]}\")\n",
        "\n",
        "plt.tight_layout()"
      ],
      "metadata": {
        "execution": {
          "iopub.status.busy": "2023-01-30T22:53:17.031469Z",
          "iopub.execute_input": "2023-01-30T22:53:17.034665Z",
          "iopub.status.idle": "2023-01-30T22:53:18.532404Z",
          "shell.execute_reply.started": "2023-01-30T22:53:17.034609Z",
          "shell.execute_reply": "2023-01-30T22:53:18.530872Z"
        },
        "trusted": true,
        "id": "fEg750bPwgnI"
      },
      "execution_count": null,
      "outputs": []
    },
    {
      "cell_type": "code",
      "source": [
        "# Now let's plot the total volume of stock being traded each day\n",
        "plt.figure(figsize=(15, 10))\n",
        "plt.subplots_adjust(top=1.25, bottom=1.2)\n",
        "\n",
        "for i, company in enumerate(company_list, 1):\n",
        "    plt.subplot(2, 2, i)\n",
        "    company['Volume'].plot()\n",
        "    plt.ylabel('Volume')\n",
        "    plt.xlabel(None)\n",
        "    plt.title(f\"Sales Volume for {tech_list[i - 1]}\")\n",
        "\n",
        "plt.tight_layout()"
      ],
      "metadata": {
        "execution": {
          "iopub.status.busy": "2023-01-30T22:53:18.534332Z",
          "iopub.execute_input": "2023-01-30T22:53:18.534757Z",
          "iopub.status.idle": "2023-01-30T22:53:20.063873Z",
          "shell.execute_reply.started": "2023-01-30T22:53:18.534721Z",
          "shell.execute_reply": "2023-01-30T22:53:20.062686Z"
        },
        "trusted": true,
        "id": "FuwdyQ4jwgnI"
      },
      "execution_count": null,
      "outputs": []
    },
    {
      "cell_type": "code",
      "source": [
        "ma_day = [10, 20, 50]\n",
        "\n",
        "for ma in ma_day:\n",
        "    for company in company_list:\n",
        "        column_name = f\"MA for {ma} days\"\n",
        "        company[column_name] = company['Adj Close'].rolling(ma).mean()\n",
        "\n",
        "\n",
        "fig, axes = plt.subplots(nrows=2, ncols=2)\n",
        "fig.set_figheight(10)\n",
        "fig.set_figwidth(15)\n",
        "\n",
        "AAPL[['Adj Close', 'MA for 10 days', 'MA for 20 days', 'MA for 50 days']].plot(ax=axes[0,0])\n",
        "axes[0,0].set_title('APPLE')\n",
        "\n",
        "GOOG[['Adj Close', 'MA for 10 days', 'MA for 20 days', 'MA for 50 days']].plot(ax=axes[0,1])\n",
        "axes[0,1].set_title('GOOGLE')\n",
        "\n",
        "MSFT[['Adj Close', 'MA for 10 days', 'MA for 20 days', 'MA for 50 days']].plot(ax=axes[1,0])\n",
        "axes[1,0].set_title('MICROSOFT')\n",
        "\n",
        "AMZN[['Adj Close', 'MA for 10 days', 'MA for 20 days', 'MA for 50 days']].plot(ax=axes[1,1])\n",
        "axes[1,1].set_title('AMAZON')\n",
        "\n",
        "fig.tight_layout()"
      ],
      "metadata": {
        "execution": {
          "iopub.status.busy": "2023-01-30T22:53:20.065607Z",
          "iopub.execute_input": "2023-01-30T22:53:20.066321Z",
          "iopub.status.idle": "2023-01-30T22:53:22.167966Z",
          "shell.execute_reply.started": "2023-01-30T22:53:20.066274Z",
          "shell.execute_reply": "2023-01-30T22:53:22.166773Z"
        },
        "trusted": true,
        "id": "bb11f93-wgnJ"
      },
      "execution_count": null,
      "outputs": []
    },
    {
      "cell_type": "code",
      "source": [
        "# We'll use pct_change to find the percent change for each day\n",
        "for company in company_list:\n",
        "    company['Daily Return'] = company['Adj Close'].pct_change()\n",
        "\n",
        "# Then we'll plot the daily return percentage\n",
        "fig, axes = plt.subplots(nrows=2, ncols=2)\n",
        "fig.set_figheight(10)\n",
        "fig.set_figwidth(15)\n",
        "\n",
        "AAPL['Daily Return'].plot(ax=axes[0,0], legend=True, linestyle='--', marker='o')\n",
        "axes[0,0].set_title('APPLE')\n",
        "\n",
        "GOOG['Daily Return'].plot(ax=axes[0,1], legend=True, linestyle='--', marker='o')\n",
        "axes[0,1].set_title('GOOGLE')\n",
        "\n",
        "MSFT['Daily Return'].plot(ax=axes[1,0], legend=True, linestyle='--', marker='o')\n",
        "axes[1,0].set_title('MICROSOFT')\n",
        "\n",
        "AMZN['Daily Return'].plot(ax=axes[1,1], legend=True, linestyle='--', marker='o')\n",
        "axes[1,1].set_title('AMAZON')\n",
        "\n",
        "fig.tight_layout()"
      ],
      "metadata": {
        "execution": {
          "iopub.status.busy": "2023-01-30T22:53:22.169469Z",
          "iopub.execute_input": "2023-01-30T22:53:22.170167Z",
          "iopub.status.idle": "2023-01-30T22:53:23.76016Z",
          "shell.execute_reply.started": "2023-01-30T22:53:22.170126Z",
          "shell.execute_reply": "2023-01-30T22:53:23.758438Z"
        },
        "trusted": true,
        "id": "ha55WmqRwgnJ"
      },
      "execution_count": null,
      "outputs": []
    },
    {
      "cell_type": "code",
      "source": [
        "plt.figure(figsize=(12, 9))\n",
        "\n",
        "for i, company in enumerate(company_list, 1):\n",
        "    plt.subplot(2, 2, i)\n",
        "    company['Daily Return'].hist(bins=50)\n",
        "    plt.xlabel('Daily Return')\n",
        "    plt.ylabel('Counts')\n",
        "    plt.title(f'{company_name[i - 1]}')\n",
        "\n",
        "plt.tight_layout()"
      ],
      "metadata": {
        "execution": {
          "iopub.status.busy": "2023-01-30T22:53:23.762096Z",
          "iopub.execute_input": "2023-01-30T22:53:23.762497Z",
          "iopub.status.idle": "2023-01-30T22:53:25.223946Z",
          "shell.execute_reply.started": "2023-01-30T22:53:23.762465Z",
          "shell.execute_reply": "2023-01-30T22:53:25.222884Z"
        },
        "trusted": true,
        "id": "Mx_p7hH9wgnJ"
      },
      "execution_count": null,
      "outputs": []
    },
    {
      "cell_type": "code",
      "source": [
        "# Grab all the closing prices for the tech stock list into one DataFrame\n",
        "\n",
        "closing_df = pdr.get_data_yahoo(tech_list, start=start, end=end)['Adj Close']\n",
        "\n",
        "# Make a new tech returns DataFrame\n",
        "tech_rets = closing_df.pct_change()\n",
        "tech_rets.head()"
      ],
      "metadata": {
        "execution": {
          "iopub.status.busy": "2023-01-30T22:53:25.2276Z",
          "iopub.execute_input": "2023-01-30T22:53:25.228619Z",
          "iopub.status.idle": "2023-01-30T22:53:25.672267Z",
          "shell.execute_reply.started": "2023-01-30T22:53:25.228575Z",
          "shell.execute_reply": "2023-01-30T22:53:25.670437Z"
        },
        "trusted": true,
        "id": "K7KoJKCGwgnK"
      },
      "execution_count": null,
      "outputs": []
    },
    {
      "cell_type": "markdown",
      "source": [
        "Now we can compare the daily percentage return of two stocks to check how correlated. First let's see a sotck compared to itself."
      ],
      "metadata": {
        "id": "IW1Zc4MUwgnK"
      }
    },
    {
      "cell_type": "code",
      "source": [
        "# Comparing Google to itself should show a perfectly linear relationship\n",
        "sns.jointplot(x='GOOG', y='GOOG', data=tech_rets, kind='scatter', color='seagreen')"
      ],
      "metadata": {
        "execution": {
          "iopub.status.busy": "2023-01-30T22:53:25.674373Z",
          "iopub.execute_input": "2023-01-30T22:53:25.674901Z",
          "iopub.status.idle": "2023-01-30T22:53:26.430112Z",
          "shell.execute_reply.started": "2023-01-30T22:53:25.674841Z",
          "shell.execute_reply": "2023-01-30T22:53:26.428883Z"
        },
        "trusted": true,
        "id": "qQke5M3swgnK"
      },
      "execution_count": null,
      "outputs": []
    },
    {
      "cell_type": "code",
      "source": [
        "# We'll use joinplot to compare the daily returns of Google and Microsoft\n",
        "sns.jointplot(x='GOOG', y='MSFT', data=tech_rets, kind='scatter')"
      ],
      "metadata": {
        "execution": {
          "iopub.status.busy": "2023-01-30T22:53:26.431785Z",
          "iopub.execute_input": "2023-01-30T22:53:26.433128Z",
          "iopub.status.idle": "2023-01-30T22:53:27.137587Z",
          "shell.execute_reply.started": "2023-01-30T22:53:26.433077Z",
          "shell.execute_reply": "2023-01-30T22:53:27.136302Z"
        },
        "trusted": true,
        "id": "CgZdt9ChwgnK"
      },
      "execution_count": null,
      "outputs": []
    },
    {
      "cell_type": "code",
      "source": [
        "# We can simply call pairplot on our DataFrame for an automatic visual analysis\n",
        "# of all the comparisons\n",
        "\n",
        "sns.pairplot(tech_rets, kind='reg')"
      ],
      "metadata": {
        "execution": {
          "iopub.status.busy": "2023-01-30T22:53:27.139622Z",
          "iopub.execute_input": "2023-01-30T22:53:27.139998Z",
          "iopub.status.idle": "2023-01-30T22:53:32.327777Z",
          "shell.execute_reply.started": "2023-01-30T22:53:27.139967Z",
          "shell.execute_reply": "2023-01-30T22:53:32.325975Z"
        },
        "trusted": true,
        "id": "KXgiVnIswgnL"
      },
      "execution_count": null,
      "outputs": []
    },
    {
      "cell_type": "code",
      "source": [
        "# Set up our figure by naming it returns_fig, call PairPLot on the DataFrame\n",
        "return_fig = sns.PairGrid(tech_rets.dropna())\n",
        "\n",
        "# Using map_upper we can specify what the upper triangle will look like.\n",
        "return_fig.map_upper(plt.scatter, color='purple')\n",
        "\n",
        "# We can also define the lower triangle in the figure, inclufing the plot type (kde)\n",
        "# or the color map (BluePurple)\n",
        "return_fig.map_lower(sns.kdeplot, cmap='cool_d')\n",
        "\n",
        "# Finally we'll define the diagonal as a series of histogram plots of the daily return\n",
        "return_fig.map_diag(plt.hist, bins=30)"
      ],
      "metadata": {
        "execution": {
          "iopub.status.busy": "2023-01-30T22:53:32.329737Z",
          "iopub.execute_input": "2023-01-30T22:53:32.330154Z",
          "iopub.status.idle": "2023-01-30T22:53:36.190698Z",
          "shell.execute_reply.started": "2023-01-30T22:53:32.33012Z",
          "shell.execute_reply": "2023-01-30T22:53:36.189487Z"
        },
        "trusted": true,
        "id": "qKNNFwKXwgnL"
      },
      "execution_count": null,
      "outputs": []
    },
    {
      "cell_type": "code",
      "source": [
        "# Set up our figure by naming it returns_fig, call PairPLot on the DataFrame\n",
        "returns_fig = sns.PairGrid(closing_df)\n",
        "\n",
        "# Using map_upper we can specify what the upper triangle will look like.\n",
        "returns_fig.map_upper(plt.scatter,color='purple')\n",
        "\n",
        "# We can also define the lower triangle in the figure, inclufing the plot type (kde) or the color map (BluePurple)\n",
        "returns_fig.map_lower(sns.kdeplot,cmap='cool_d')\n",
        "\n",
        "# Finally we'll define the diagonal as a series of histogram plots of the daily return\n",
        "returns_fig.map_diag(plt.hist,bins=30)"
      ],
      "metadata": {
        "execution": {
          "iopub.status.busy": "2023-01-30T22:53:36.191973Z",
          "iopub.execute_input": "2023-01-30T22:53:36.192306Z",
          "iopub.status.idle": "2023-01-30T22:53:40.501339Z",
          "shell.execute_reply.started": "2023-01-30T22:53:36.192275Z",
          "shell.execute_reply": "2023-01-30T22:53:40.50005Z"
        },
        "trusted": true,
        "id": "tAf46yb9wgnM"
      },
      "execution_count": null,
      "outputs": []
    },
    {
      "cell_type": "code",
      "source": [
        "plt.figure(figsize=(12, 10))\n",
        "\n",
        "plt.subplot(2, 2, 1)\n",
        "sns.heatmap(tech_rets.corr(), annot=True, cmap='summer')\n",
        "plt.title('Correlation of stock return')\n",
        "\n",
        "plt.subplot(2, 2, 2)\n",
        "sns.heatmap(closing_df.corr(), annot=True, cmap='summer')\n",
        "plt.title('Correlation of stock closing price')"
      ],
      "metadata": {
        "execution": {
          "iopub.status.busy": "2023-01-30T22:53:40.503245Z",
          "iopub.execute_input": "2023-01-30T22:53:40.504161Z",
          "iopub.status.idle": "2023-01-30T22:53:41.154687Z",
          "shell.execute_reply.started": "2023-01-30T22:53:40.504113Z",
          "shell.execute_reply": "2023-01-30T22:53:41.153398Z"
        },
        "trusted": true,
        "id": "9Xhg6ADqwgnN"
      },
      "execution_count": null,
      "outputs": []
    },
    {
      "cell_type": "code",
      "source": [
        "rets = tech_rets.dropna()\n",
        "\n",
        "area = np.pi * 20\n",
        "\n",
        "plt.figure(figsize=(10, 8))\n",
        "plt.scatter(rets.mean(), rets.std(), s=area)\n",
        "plt.xlabel('Expected return')\n",
        "plt.ylabel('Risk')\n",
        "\n",
        "for label, x, y in zip(rets.columns, rets.mean(), rets.std()):\n",
        "    plt.annotate(label, xy=(x, y), xytext=(50, 50), textcoords='offset points', ha='right', va='bottom',\n",
        "                 arrowprops=dict(arrowstyle='-', color='blue', connectionstyle='arc3,rad=-0.3'))"
      ],
      "metadata": {
        "execution": {
          "iopub.status.busy": "2023-01-30T22:53:41.156429Z",
          "iopub.execute_input": "2023-01-30T22:53:41.156939Z",
          "iopub.status.idle": "2023-01-30T22:53:41.598482Z",
          "shell.execute_reply.started": "2023-01-30T22:53:41.156891Z",
          "shell.execute_reply": "2023-01-30T22:53:41.597219Z"
        },
        "trusted": true,
        "id": "Bd-Njo5HwgnT"
      },
      "execution_count": null,
      "outputs": []
    },
    {
      "cell_type": "code",
      "source": [
        "# Get the stock quote\n",
        "df = pdr.get_data_yahoo('AAPL', start='2012-01-01', end=datetime.now())\n",
        "# Show teh data\n",
        "df"
      ],
      "metadata": {
        "execution": {
          "iopub.status.busy": "2023-01-30T22:54:21.092621Z",
          "iopub.execute_input": "2023-01-30T22:54:21.093063Z",
          "iopub.status.idle": "2023-01-30T22:54:21.730045Z",
          "shell.execute_reply.started": "2023-01-30T22:54:21.093029Z",
          "shell.execute_reply": "2023-01-30T22:54:21.728467Z"
        },
        "trusted": true,
        "id": "M2evk5VWwgnT"
      },
      "execution_count": null,
      "outputs": []
    },
    {
      "cell_type": "code",
      "source": [
        "plt.figure(figsize=(16,6))\n",
        "plt.title('Close Price History')\n",
        "plt.plot(df['Close'])\n",
        "plt.xlabel('Date', fontsize=18)\n",
        "plt.ylabel('Close Price USD ($)', fontsize=18)\n",
        "plt.show()"
      ],
      "metadata": {
        "execution": {
          "iopub.status.busy": "2023-01-30T22:54:24.484162Z",
          "iopub.execute_input": "2023-01-30T22:54:24.484575Z",
          "iopub.status.idle": "2023-01-30T22:54:24.949002Z",
          "shell.execute_reply.started": "2023-01-30T22:54:24.484543Z",
          "shell.execute_reply": "2023-01-30T22:54:24.947341Z"
        },
        "trusted": true,
        "id": "nHB9BfznwgnT"
      },
      "execution_count": null,
      "outputs": []
    },
    {
      "cell_type": "code",
      "source": [
        "# Create a new dataframe with only the 'Close column\n",
        "data = df.filter(['Close'])\n",
        "# Convert the dataframe to a numpy array\n",
        "dataset = data.values\n",
        "# Get the number of rows to train the model on\n",
        "training_data_len = int(np.ceil( len(dataset) * .95 ))\n",
        "\n",
        "training_data_len"
      ],
      "metadata": {
        "execution": {
          "iopub.status.busy": "2023-01-30T22:54:25.696185Z",
          "iopub.execute_input": "2023-01-30T22:54:25.697256Z",
          "iopub.status.idle": "2023-01-30T22:54:25.705935Z",
          "shell.execute_reply.started": "2023-01-30T22:54:25.697213Z",
          "shell.execute_reply": "2023-01-30T22:54:25.704797Z"
        },
        "trusted": true,
        "id": "_Cto1Zd_wgnT"
      },
      "execution_count": null,
      "outputs": []
    },
    {
      "cell_type": "code",
      "source": [
        "# Scale the data\n",
        "from sklearn.preprocessing import MinMaxScaler\n",
        "\n",
        "scaler = MinMaxScaler(feature_range=(0,1))\n",
        "scaled_data = scaler.fit_transform(dataset)\n",
        "\n",
        "scaled_data"
      ],
      "metadata": {
        "execution": {
          "iopub.status.busy": "2023-01-30T22:54:26.922566Z",
          "iopub.execute_input": "2023-01-30T22:54:26.923513Z",
          "iopub.status.idle": "2023-01-30T22:54:27.008859Z",
          "shell.execute_reply.started": "2023-01-30T22:54:26.923473Z",
          "shell.execute_reply": "2023-01-30T22:54:27.007904Z"
        },
        "trusted": true,
        "id": "t6MESBr2wgnT"
      },
      "execution_count": null,
      "outputs": []
    },
    {
      "cell_type": "code",
      "source": [
        "# Create the training data set\n",
        "# Create the scaled training data set\n",
        "train_data = scaled_data[0:int(training_data_len), :]\n",
        "# Split the data into x_train and y_train data sets\n",
        "x_train = []\n",
        "y_train = []\n",
        "\n",
        "for i in range(60, len(train_data)):\n",
        "    x_train.append(train_data[i-60:i, 0])\n",
        "    y_train.append(train_data[i, 0])\n",
        "    if i<= 61:\n",
        "        print(x_train)\n",
        "        print(y_train)\n",
        "        print()\n",
        "\n",
        "# Convert the x_train and y_train to numpy arrays\n",
        "x_train, y_train = np.array(x_train), np.array(y_train)\n",
        "\n",
        "# Reshape the data\n",
        "x_train = np.reshape(x_train, (x_train.shape[0], x_train.shape[1], 1))\n",
        "# x_train.shape"
      ],
      "metadata": {
        "_kg_hide-output": true,
        "execution": {
          "iopub.status.busy": "2023-01-30T22:54:28.564506Z",
          "iopub.execute_input": "2023-01-30T22:54:28.565665Z",
          "iopub.status.idle": "2023-01-30T22:54:28.583517Z",
          "shell.execute_reply.started": "2023-01-30T22:54:28.565624Z",
          "shell.execute_reply": "2023-01-30T22:54:28.581937Z"
        },
        "trusted": true,
        "id": "wf3dTZPswgnU"
      },
      "execution_count": null,
      "outputs": []
    },
    {
      "cell_type": "code",
      "source": [
        "from keras.models import Sequential\n",
        "from keras.layers import Dense, LSTM\n",
        "\n",
        "# Build the LSTM model\n",
        "model = Sequential()\n",
        "model.add(LSTM(128, return_sequences=True, input_shape= (x_train.shape[1], 1)))\n",
        "model.add(LSTM(64, return_sequences=False))\n",
        "model.add(Dense(25))\n",
        "model.add(Dense(1))\n",
        "\n",
        "# Compile the model\n",
        "model.compile(optimizer='adam', loss='mean_squared_error')\n",
        "\n",
        "# Train the model\n",
        "model.fit(x_train, y_train, batch_size=1, epochs=1)"
      ],
      "metadata": {
        "execution": {
          "iopub.status.busy": "2023-01-30T22:54:29.78365Z",
          "iopub.execute_input": "2023-01-30T22:54:29.785159Z",
          "iopub.status.idle": "2023-01-30T22:56:54.386331Z",
          "shell.execute_reply.started": "2023-01-30T22:54:29.785089Z",
          "shell.execute_reply": "2023-01-30T22:56:54.385391Z"
        },
        "trusted": true,
        "id": "OarbJAuFwgnU"
      },
      "execution_count": null,
      "outputs": []
    },
    {
      "cell_type": "code",
      "source": [
        "# Create the testing data set\n",
        "# Create a new array containing scaled values from index 1543 to 2002\n",
        "test_data = scaled_data[training_data_len - 60: , :]\n",
        "# Create the data sets x_test and y_test\n",
        "x_test = []\n",
        "y_test = dataset[training_data_len:, :]\n",
        "for i in range(60, len(test_data)):\n",
        "    x_test.append(test_data[i-60:i, 0])\n",
        "\n",
        "# Convert the data to a numpy array\n",
        "x_test = np.array(x_test)\n",
        "\n",
        "# Reshape the data\n",
        "x_test = np.reshape(x_test, (x_test.shape[0], x_test.shape[1], 1 ))\n",
        "\n",
        "# Get the models predicted price values\n",
        "predictions = model.predict(x_test)\n",
        "predictions = scaler.inverse_transform(predictions)\n",
        "\n",
        "# Get the root mean squared error (RMSE)\n",
        "rmse = np.sqrt(np.mean(((predictions - y_test) ** 2)))\n",
        "rmse"
      ],
      "metadata": {
        "execution": {
          "iopub.status.busy": "2023-01-30T22:56:54.387851Z",
          "iopub.execute_input": "2023-01-30T22:56:54.38823Z",
          "iopub.status.idle": "2023-01-30T22:56:55.516442Z",
          "shell.execute_reply.started": "2023-01-30T22:56:54.388197Z",
          "shell.execute_reply": "2023-01-30T22:56:55.515051Z"
        },
        "trusted": true,
        "id": "nUO1jhQ1wgnU"
      },
      "execution_count": null,
      "outputs": []
    },
    {
      "cell_type": "code",
      "source": [
        "# Plot the data\n",
        "train = data[:training_data_len]\n",
        "valid = data[training_data_len:]\n",
        "valid['Predictions'] = predictions\n",
        "# Visualize the data\n",
        "plt.figure(figsize=(16,6))\n",
        "plt.title('Model')\n",
        "plt.xlabel('Date', fontsize=18)\n",
        "plt.ylabel('Close Price USD ($)', fontsize=18)\n",
        "plt.plot(train['Close'])\n",
        "plt.plot(valid[['Close', 'Predictions']])\n",
        "plt.legend(['Train', 'Val', 'Predictions'], loc='lower right')\n",
        "plt.show()"
      ],
      "metadata": {
        "execution": {
          "iopub.status.busy": "2023-01-30T22:56:55.519391Z",
          "iopub.execute_input": "2023-01-30T22:56:55.520239Z",
          "iopub.status.idle": "2023-01-30T22:56:56.035566Z",
          "shell.execute_reply.started": "2023-01-30T22:56:55.52019Z",
          "shell.execute_reply": "2023-01-30T22:56:56.034289Z"
        },
        "trusted": true,
        "id": "eaPFVMu9wgnU"
      },
      "execution_count": null,
      "outputs": []
    },
    {
      "cell_type": "code",
      "source": [
        "# Show the valid and predicted prices\n",
        "valid"
      ],
      "metadata": {
        "execution": {
          "iopub.status.busy": "2023-01-30T22:56:56.037716Z",
          "iopub.execute_input": "2023-01-30T22:56:56.038718Z",
          "iopub.status.idle": "2023-01-30T22:56:56.054039Z",
          "shell.execute_reply.started": "2023-01-30T22:56:56.038679Z",
          "shell.execute_reply": "2023-01-30T22:56:56.052596Z"
        },
        "trusted": true,
        "id": "I3QBnEvawgnU"
      },
      "execution_count": null,
      "outputs": []
    },
    {
      "cell_type": "code",
      "source": [],
      "metadata": {
        "id": "G1xB2lDZwgnU"
      },
      "execution_count": null,
      "outputs": []
    }
  ]
}